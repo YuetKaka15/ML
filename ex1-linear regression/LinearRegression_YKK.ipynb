{
 "cells": [
  {
   "cell_type": "code",
   "execution_count": 1,
   "metadata": {},
   "outputs": [],
   "source": [
    "import pandas as pd\n",
    "import numpy as np\n",
    "import matplotlib.pyplot as plt"
   ]
  },
  {
   "cell_type": "code",
   "execution_count": 2,
   "metadata": {},
   "outputs": [],
   "source": [
    "path=\"ex1data1.txt\"\n",
    "data = pd.read_csv(path,header=None,names=[\"Population\",\"Profit\"])"
   ]
  },
  {
   "cell_type": "code",
   "execution_count": 3,
   "metadata": {},
   "outputs": [
    {
     "data": {
      "text/html": [
       "<div>\n",
       "<style scoped>\n",
       "    .dataframe tbody tr th:only-of-type {\n",
       "        vertical-align: middle;\n",
       "    }\n",
       "\n",
       "    .dataframe tbody tr th {\n",
       "        vertical-align: top;\n",
       "    }\n",
       "\n",
       "    .dataframe thead th {\n",
       "        text-align: right;\n",
       "    }\n",
       "</style>\n",
       "<table border=\"1\" class=\"dataframe\">\n",
       "  <thead>\n",
       "    <tr style=\"text-align: right;\">\n",
       "      <th></th>\n",
       "      <th>Population</th>\n",
       "      <th>Profit</th>\n",
       "    </tr>\n",
       "  </thead>\n",
       "  <tbody>\n",
       "    <tr>\n",
       "      <th>0</th>\n",
       "      <td>6.1101</td>\n",
       "      <td>17.5920</td>\n",
       "    </tr>\n",
       "    <tr>\n",
       "      <th>1</th>\n",
       "      <td>5.5277</td>\n",
       "      <td>9.1302</td>\n",
       "    </tr>\n",
       "    <tr>\n",
       "      <th>2</th>\n",
       "      <td>8.5186</td>\n",
       "      <td>13.6620</td>\n",
       "    </tr>\n",
       "    <tr>\n",
       "      <th>3</th>\n",
       "      <td>7.0032</td>\n",
       "      <td>11.8540</td>\n",
       "    </tr>\n",
       "    <tr>\n",
       "      <th>4</th>\n",
       "      <td>5.8598</td>\n",
       "      <td>6.8233</td>\n",
       "    </tr>\n",
       "  </tbody>\n",
       "</table>\n",
       "</div>"
      ],
      "text/plain": [
       "   Population   Profit\n",
       "0      6.1101  17.5920\n",
       "1      5.5277   9.1302\n",
       "2      8.5186  13.6620\n",
       "3      7.0032  11.8540\n",
       "4      5.8598   6.8233"
      ]
     },
     "execution_count": 3,
     "metadata": {},
     "output_type": "execute_result"
    }
   ],
   "source": [
    "data.head()"
   ]
  },
  {
   "cell_type": "code",
   "execution_count": 4,
   "metadata": {},
   "outputs": [
    {
     "data": {
      "text/html": [
       "<div>\n",
       "<style scoped>\n",
       "    .dataframe tbody tr th:only-of-type {\n",
       "        vertical-align: middle;\n",
       "    }\n",
       "\n",
       "    .dataframe tbody tr th {\n",
       "        vertical-align: top;\n",
       "    }\n",
       "\n",
       "    .dataframe thead th {\n",
       "        text-align: right;\n",
       "    }\n",
       "</style>\n",
       "<table border=\"1\" class=\"dataframe\">\n",
       "  <thead>\n",
       "    <tr style=\"text-align: right;\">\n",
       "      <th></th>\n",
       "      <th>Population</th>\n",
       "      <th>Profit</th>\n",
       "    </tr>\n",
       "  </thead>\n",
       "  <tbody>\n",
       "    <tr>\n",
       "      <th>count</th>\n",
       "      <td>97.000000</td>\n",
       "      <td>97.000000</td>\n",
       "    </tr>\n",
       "    <tr>\n",
       "      <th>mean</th>\n",
       "      <td>8.159800</td>\n",
       "      <td>5.839135</td>\n",
       "    </tr>\n",
       "    <tr>\n",
       "      <th>std</th>\n",
       "      <td>3.869884</td>\n",
       "      <td>5.510262</td>\n",
       "    </tr>\n",
       "    <tr>\n",
       "      <th>min</th>\n",
       "      <td>5.026900</td>\n",
       "      <td>-2.680700</td>\n",
       "    </tr>\n",
       "    <tr>\n",
       "      <th>25%</th>\n",
       "      <td>5.707700</td>\n",
       "      <td>1.986900</td>\n",
       "    </tr>\n",
       "    <tr>\n",
       "      <th>50%</th>\n",
       "      <td>6.589400</td>\n",
       "      <td>4.562300</td>\n",
       "    </tr>\n",
       "    <tr>\n",
       "      <th>75%</th>\n",
       "      <td>8.578100</td>\n",
       "      <td>7.046700</td>\n",
       "    </tr>\n",
       "    <tr>\n",
       "      <th>max</th>\n",
       "      <td>22.203000</td>\n",
       "      <td>24.147000</td>\n",
       "    </tr>\n",
       "  </tbody>\n",
       "</table>\n",
       "</div>"
      ],
      "text/plain": [
       "       Population     Profit\n",
       "count   97.000000  97.000000\n",
       "mean     8.159800   5.839135\n",
       "std      3.869884   5.510262\n",
       "min      5.026900  -2.680700\n",
       "25%      5.707700   1.986900\n",
       "50%      6.589400   4.562300\n",
       "75%      8.578100   7.046700\n",
       "max     22.203000  24.147000"
      ]
     },
     "execution_count": 4,
     "metadata": {},
     "output_type": "execute_result"
    }
   ],
   "source": [
    "data.describe()"
   ]
  },
  {
   "cell_type": "code",
   "execution_count": 5,
   "metadata": {},
   "outputs": [
    {
     "data": {
      "image/png": "[encoded data removed]",
      "text/plain": [
       "<Figure size 720x576 with 1 Axes>"
      ]
     },
     "metadata": {
      "needs_background": "light"
     },
     "output_type": "display_data"
    }
   ],
   "source": [
    "data.plot(kind='scatter', x='Population', y='Profit', figsize=(10,8))\n",
    "plt.show()"
   ]
  },
  {
   "cell_type": "code",
   "execution_count": 6,
   "metadata": {},
   "outputs": [],
   "source": [
    "cols=data.shape[1]#shape，获取第一行的个数\n",
    "x=data.iloc[:,0:cols-1]\n",
    "y=data.iloc[:,cols-1:cols]\n",
    "#试试不加Ones一列\n",
    "#不加Ones，就是设置的b为0"
   ]
  },
  {
   "cell_type": "code",
   "execution_count": 7,
   "metadata": {},
   "outputs": [
    {
     "data": {
      "text/html": [
       "<div>\n",
       "<style scoped>\n",
       "    .dataframe tbody tr th:only-of-type {\n",
       "        vertical-align: middle;\n",
       "    }\n",
       "\n",
       "    .dataframe tbody tr th {\n",
       "        vertical-align: top;\n",
       "    }\n",
       "\n",
       "    .dataframe thead th {\n",
       "        text-align: right;\n",
       "    }\n",
       "</style>\n",
       "<table border=\"1\" class=\"dataframe\">\n",
       "  <thead>\n",
       "    <tr style=\"text-align: right;\">\n",
       "      <th></th>\n",
       "      <th>Population</th>\n",
       "    </tr>\n",
       "  </thead>\n",
       "  <tbody>\n",
       "    <tr>\n",
       "      <th>0</th>\n",
       "      <td>6.1101</td>\n",
       "    </tr>\n",
       "    <tr>\n",
       "      <th>1</th>\n",
       "      <td>5.5277</td>\n",
       "    </tr>\n",
       "    <tr>\n",
       "      <th>2</th>\n",
       "      <td>8.5186</td>\n",
       "    </tr>\n",
       "    <tr>\n",
       "      <th>3</th>\n",
       "      <td>7.0032</td>\n",
       "    </tr>\n",
       "    <tr>\n",
       "      <th>4</th>\n",
       "      <td>5.8598</td>\n",
       "    </tr>\n",
       "  </tbody>\n",
       "</table>\n",
       "</div>"
      ],
      "text/plain": [
       "   Population\n",
       "0      6.1101\n",
       "1      5.5277\n",
       "2      8.5186\n",
       "3      7.0032\n",
       "4      5.8598"
      ]
     },
     "execution_count": 7,
     "metadata": {},
     "output_type": "execute_result"
    }
   ],
   "source": [
    "x.head()"
   ]
  },
  {
   "cell_type": "code",
   "execution_count": 8,
   "metadata": {},
   "outputs": [
    {
     "data": {
      "text/html": [
       "<div>\n",
       "<style scoped>\n",
       "    .dataframe tbody tr th:only-of-type {\n",
       "        vertical-align: middle;\n",
       "    }\n",
       "\n",
       "    .dataframe tbody tr th {\n",
       "        vertical-align: top;\n",
       "    }\n",
       "\n",
       "    .dataframe thead th {\n",
       "        text-align: right;\n",
       "    }\n",
       "</style>\n",
       "<table border=\"1\" class=\"dataframe\">\n",
       "  <thead>\n",
       "    <tr style=\"text-align: right;\">\n",
       "      <th></th>\n",
       "      <th>Profit</th>\n",
       "    </tr>\n",
       "  </thead>\n",
       "  <tbody>\n",
       "    <tr>\n",
       "      <th>0</th>\n",
       "      <td>17.5920</td>\n",
       "    </tr>\n",
       "    <tr>\n",
       "      <th>1</th>\n",
       "      <td>9.1302</td>\n",
       "    </tr>\n",
       "    <tr>\n",
       "      <th>2</th>\n",
       "      <td>13.6620</td>\n",
       "    </tr>\n",
       "    <tr>\n",
       "      <th>3</th>\n",
       "      <td>11.8540</td>\n",
       "    </tr>\n",
       "    <tr>\n",
       "      <th>4</th>\n",
       "      <td>6.8233</td>\n",
       "    </tr>\n",
       "  </tbody>\n",
       "</table>\n",
       "</div>"
      ],
      "text/plain": [
       "    Profit\n",
       "0  17.5920\n",
       "1   9.1302\n",
       "2  13.6620\n",
       "3  11.8540\n",
       "4   6.8233"
      ]
     },
     "execution_count": 8,
     "metadata": {},
     "output_type": "execute_result"
    }
   ],
   "source": [
    "y.head()"
   ]
  },
  {
   "cell_type": "code",
   "execution_count": 9,
   "metadata": {},
   "outputs": [],
   "source": [
    "theta = np.matrix(np.array([0]))#不加ONes，theta应该为1，1\n",
    "x=np.matrix(x.values)\n",
    "y=np.matrix(y.values)"
   ]
  },
  {
   "cell_type": "code",
   "execution_count": 10,
   "metadata": {},
   "outputs": [
    {
     "data": {
      "text/plain": [
       "matrix([[0]])"
      ]
     },
     "execution_count": 10,
     "metadata": {},
     "output_type": "execute_result"
    }
   ],
   "source": [
    "theta"
   ]
  },
  {
   "cell_type": "code",
   "execution_count": 11,
   "metadata": {},
   "outputs": [
    {
     "data": {
      "text/plain": [
       "((97, 1), (97, 1), (1, 1))"
      ]
     },
     "execution_count": 11,
     "metadata": {},
     "output_type": "execute_result"
    }
   ],
   "source": [
    "x.shape,y.shape,theta.shape"
   ]
  },
  {
   "cell_type": "markdown",
   "metadata": {},
   "source": [
    "首先，我们将创建一个以参数θ为特征函数的代价函数\n",
    "$$J\\left( \\theta  \\right)=\\frac{1}{2m}\\sum\\limits_{i=1}^{m}{{{\\left( {{h}_{\\theta }}\\left( {{x}^{(i)}} \\right)-{{y}^{(i)}} \\right)}^{2}}}$$\n",
    "其中：\\\\[{{h}_{\\theta }}\\left( x \\right)={{\\theta }^{T}}X={{\\theta }_{0}}{{x}_{0}}+{{\\theta }_{1}}{{x}_{1}}+{{\\theta }_{2}}{{x}_{2}}+...+{{\\theta }_{n}}{{x}_{n}}\\\\] "
   ]
  },
  {
   "cell_type": "code",
   "execution_count": 12,
   "metadata": {},
   "outputs": [],
   "source": [
    "def computerCost(x,y,theta):\n",
    "    temp=np.power(((x*theta.T)-y),2)#矩阵的乘法\n",
    "    return np.sum(temp)/(2*len(x))#sum函数，输入矩阵时，将矩阵值相加，输出值。axis参数设置为2，则输出2维矩阵，输出矩阵"
   ]
  },
  {
   "cell_type": "code",
   "execution_count": 13,
   "metadata": {},
   "outputs": [],
   "source": [
    "Cost=computerCost(x,y,theta)"
   ]
  },
  {
   "cell_type": "code",
   "execution_count": 14,
   "metadata": {},
   "outputs": [
    {
     "data": {
      "text/plain": [
       "32.072733877455676"
      ]
     },
     "execution_count": 14,
     "metadata": {},
     "output_type": "execute_result"
    }
   ],
   "source": [
    "Cost#得出结果"
   ]
  },
  {
   "cell_type": "markdown",
   "metadata": {},
   "source": [
    "# batch gradient decent（批量梯度下降）\n",
    "$${{\\theta }_{j}}:={{\\theta }_{j}}-\\alpha \\frac{\\partial }{\\partial {{\\theta }_{j}}}J\\left( \\theta  \\right)$$"
   ]
  },
  {
   "cell_type": "code",
   "execution_count": 15,
   "metadata": {},
   "outputs": [],
   "source": [
    "def gradientDescent(x, y, theta, alpha, iters):#iters为迭代次数\n",
    "    temp = np.matrix(np.zeros(theta.shape))#zeros用0填充矩阵\n",
    "    parameters = int(theta.shape[1])#ravel拉长矩阵，shape[0]得到行的个数，shape[1]表示列数。（我是一列的，不需要拉;结果不变）\n",
    "    cost = np.zeros(iters)\n",
    "    \n",
    "    for i in range(iters):#不断迭代\n",
    "        error = (x * theta.T) - y\n",
    "        \n",
    "        for j in range(parameters):\n",
    "            term = np.multiply(error, x[:,j])\n",
    "            temp[0,j] = theta[0,j] - ((alpha / len(x)) * np.sum(term))\n",
    "            \n",
    "        theta = temp\n",
    "        cost[i] = computerCost(x, y, theta)\n",
    "        \n",
    "    return theta, cost"
   ]
  },
  {
   "cell_type": "code",
   "execution_count": 16,
   "metadata": {},
   "outputs": [],
   "source": [
    "alpha=0.01#学习率\n",
    "iters=1000#迭代次数"
   ]
  },
  {
   "cell_type": "code",
   "execution_count": 17,
   "metadata": {},
   "outputs": [
    {
     "data": {
      "text/plain": [
       "matrix([[0.80252685]])"
      ]
     },
     "execution_count": 17,
     "metadata": {},
     "output_type": "execute_result"
    }
   ],
   "source": [
    "g,cost=gradientDescent(x,y,theta,alpha,iters)\n",
    "g#求出公式中的ω"
   ]
  },
  {
   "cell_type": "code",
   "execution_count": 18,
   "metadata": {},
   "outputs": [
    {
     "data": {
      "text/plain": [
       "5.858655903330432"
      ]
     },
     "execution_count": 18,
     "metadata": {},
     "output_type": "execute_result"
    }
   ],
   "source": [
    "computerCost(x,y,g)"
   ]
  },
  {
   "cell_type": "code",
   "execution_count": 19,
   "metadata": {},
   "outputs": [
    {
     "data": {
      "image/png": "[encoded data removed]",
      "text/plain": [
       "<Figure size 864x576 with 1 Axes>"
      ]
     },
     "metadata": {
      "needs_background": "light"
     },
     "output_type": "display_data"
    }
   ],
   "source": [
    "x = np.linspace(0, data.Population.max(), 100)#更改x从0开始\n",
    "f = g[0,0] * x#只有一个theta，故此处函数应该过原点\n",
    "\n",
    "fig, ax = plt.subplots(figsize=(12,8))\n",
    "ax.plot(x, f, 'r', label='Prediction')\n",
    "ax.scatter(data.Population, data.Profit, label='Traning Data')\n",
    "ax.legend(loc=2)\n",
    "ax.set_xlabel('Population')\n",
    "ax.set_ylabel('Profit')\n",
    "ax.set_title('Predicted Profit vs. Population Size')\n",
    "plt.show()\n",
    "#原图像不过原点，现在过原点，"
   ]
  },
  {
   "cell_type": "code",
   "execution_count": 20,
   "metadata": {
    "scrolled": true
   },
   "outputs": [
    {
     "data": {
      "image/png": "[encoded data removed]",
      "text/plain": [
       "<Figure size 864x576 with 1 Axes>"
      ]
     },
     "metadata": {
      "needs_background": "light"
     },
     "output_type": "display_data"
    }
   ],
   "source": [
    "#输出cost下降的过程\n",
    "fig, ax = plt.subplots(figsize=(12,8))\n",
    "ax.plot(np.arange(iters), cost, 'r')\n",
    "ax.set_xlabel('Iterations')\n",
    "ax.set_ylabel('Cost')\n",
    "ax.set_title('Error vs. Training Epoch')\n",
    "plt.show()\n",
    "#两个备选值ω和b，需要大量迭代才能找出相对优的解。当只有一个ω时，几十次就能找出最优，所以下降非常快！！！！！"
   ]
  },
  {
   "cell_type": "code",
   "execution_count": 21,
   "metadata": {
    "scrolled": true
   },
   "outputs": [
    {
     "data": {
      "text/plain": [
       "array([6.7651737 , 5.8900045 , 5.85973998, 5.85869339, 5.8586572 ,\n",
       "       5.85865595, 5.8586559 , 5.8586559 , 5.8586559 , 5.8586559 ,\n",
       "       5.8586559 , 5.8586559 , 5.8586559 , 5.8586559 , 5.8586559 ,\n",
       "       5.8586559 , 5.8586559 , 5.8586559 , 5.8586559 , 5.8586559 ,\n",
       "       5.8586559 , 5.8586559 , 5.8586559 , 5.8586559 , 5.8586559 ,\n",
       "       5.8586559 , 5.8586559 , 5.8586559 , 5.8586559 , 5.8586559 ,\n",
       "       5.8586559 , 5.8586559 , 5.8586559 , 5.8586559 , 5.8586559 ,\n",
       "       5.8586559 , 5.8586559 , 5.8586559 , 5.8586559 , 5.8586559 ,\n",
       "       5.8586559 , 5.8586559 , 5.8586559 , 5.8586559 , 5.8586559 ,\n",
       "       5.8586559 , 5.8586559 , 5.8586559 , 5.8586559 , 5.8586559 ,\n",
       "       5.8586559 , 5.8586559 , 5.8586559 , 5.8586559 , 5.8586559 ,\n",
       "       5.8586559 , 5.8586559 , 5.8586559 , 5.8586559 , 5.8586559 ,\n",
       "       5.8586559 , 5.8586559 , 5.8586559 , 5.8586559 , 5.8586559 ,\n",
       "       5.8586559 , 5.8586559 , 5.8586559 , 5.8586559 , 5.8586559 ,\n",
       "       5.8586559 , 5.8586559 , 5.8586559 , 5.8586559 , 5.8586559 ,\n",
       "       5.8586559 , 5.8586559 , 5.8586559 , 5.8586559 , 5.8586559 ,\n",
       "       5.8586559 , 5.8586559 , 5.8586559 , 5.8586559 , 5.8586559 ,\n",
       "       5.8586559 , 5.8586559 , 5.8586559 , 5.8586559 , 5.8586559 ,\n",
       "       5.8586559 , 5.8586559 , 5.8586559 , 5.8586559 , 5.8586559 ,\n",
       "       5.8586559 , 5.8586559 , 5.8586559 , 5.8586559 , 5.8586559 ,\n",
       "       5.8586559 , 5.8586559 , 5.8586559 , 5.8586559 , 5.8586559 ,\n",
       "       5.8586559 , 5.8586559 , 5.8586559 , 5.8586559 , 5.8586559 ,\n",
       "       5.8586559 , 5.8586559 , 5.8586559 , 5.8586559 , 5.8586559 ,\n",
       "       5.8586559 , 5.8586559 , 5.8586559 , 5.8586559 , 5.8586559 ,\n",
       "       5.8586559 , 5.8586559 , 5.8586559 , 5.8586559 , 5.8586559 ,\n",
       "       5.8586559 , 5.8586559 , 5.8586559 , 5.8586559 , 5.8586559 ,\n",
       "       5.8586559 , 5.8586559 , 5.8586559 , 5.8586559 , 5.8586559 ,\n",
       "       5.8586559 , 5.8586559 , 5.8586559 , 5.8586559 , 5.8586559 ,\n",
       "       5.8586559 , 5.8586559 , 5.8586559 , 5.8586559 , 5.8586559 ,\n",
       "       5.8586559 , 5.8586559 , 5.8586559 , 5.8586559 , 5.8586559 ,\n",
       "       5.8586559 , 5.8586559 , 5.8586559 , 5.8586559 , 5.8586559 ,\n",
       "       5.8586559 , 5.8586559 , 5.8586559 , 5.8586559 , 5.8586559 ,\n",
       "       5.8586559 , 5.8586559 , 5.8586559 , 5.8586559 , 5.8586559 ,\n",
       "       5.8586559 , 5.8586559 , 5.8586559 , 5.8586559 , 5.8586559 ,\n",
       "       5.8586559 , 5.8586559 , 5.8586559 , 5.8586559 , 5.8586559 ,\n",
       "       5.8586559 , 5.8586559 , 5.8586559 , 5.8586559 , 5.8586559 ,\n",
       "       5.8586559 , 5.8586559 , 5.8586559 , 5.8586559 , 5.8586559 ,\n",
       "       5.8586559 , 5.8586559 , 5.8586559 , 5.8586559 , 5.8586559 ,\n",
       "       5.8586559 , 5.8586559 , 5.8586559 , 5.8586559 , 5.8586559 ,\n",
       "       5.8586559 , 5.8586559 , 5.8586559 , 5.8586559 , 5.8586559 ,\n",
       "       5.8586559 , 5.8586559 , 5.8586559 , 5.8586559 , 5.8586559 ,\n",
       "       5.8586559 , 5.8586559 , 5.8586559 , 5.8586559 , 5.8586559 ,\n",
       "       5.8586559 , 5.8586559 , 5.8586559 , 5.8586559 , 5.8586559 ,\n",
       "       5.8586559 , 5.8586559 , 5.8586559 , 5.8586559 , 5.8586559 ,\n",
       "       5.8586559 , 5.8586559 , 5.8586559 , 5.8586559 , 5.8586559 ,\n",
       "       5.8586559 , 5.8586559 , 5.8586559 , 5.8586559 , 5.8586559 ,\n",
       "       5.8586559 , 5.8586559 , 5.8586559 , 5.8586559 , 5.8586559 ,\n",
       "       5.8586559 , 5.8586559 , 5.8586559 , 5.8586559 , 5.8586559 ,\n",
       "       5.8586559 , 5.8586559 , 5.8586559 , 5.8586559 , 5.8586559 ,\n",
       "       5.8586559 , 5.8586559 , 5.8586559 , 5.8586559 , 5.8586559 ,\n",
       "       5.8586559 , 5.8586559 , 5.8586559 , 5.8586559 , 5.8586559 ,\n",
       "       5.8586559 , 5.8586559 , 5.8586559 , 5.8586559 , 5.8586559 ,\n",
       "       5.8586559 , 5.8586559 , 5.8586559 , 5.8586559 , 5.8586559 ,\n",
       "       5.8586559 , 5.8586559 , 5.8586559 , 5.8586559 , 5.8586559 ,\n",
       "       5.8586559 , 5.8586559 , 5.8586559 , 5.8586559 , 5.8586559 ,\n",
       "       5.8586559 , 5.8586559 , 5.8586559 , 5.8586559 , 5.8586559 ,\n",
       "       5.8586559 , 5.8586559 , 5.8586559 , 5.8586559 , 5.8586559 ,\n",
       "       5.8586559 , 5.8586559 , 5.8586559 , 5.8586559 , 5.8586559 ,\n",
       "       5.8586559 , 5.8586559 , 5.8586559 , 5.8586559 , 5.8586559 ,\n",
       "       5.8586559 , 5.8586559 , 5.8586559 , 5.8586559 , 5.8586559 ,\n",
       "       5.8586559 , 5.8586559 , 5.8586559 , 5.8586559 , 5.8586559 ,\n",
       "       5.8586559 , 5.8586559 , 5.8586559 , 5.8586559 , 5.8586559 ,\n",
       "       5.8586559 , 5.8586559 , 5.8586559 , 5.8586559 , 5.8586559 ,\n",
       "       5.8586559 , 5.8586559 , 5.8586559 , 5.8586559 , 5.8586559 ,\n",
       "       5.8586559 , 5.8586559 , 5.8586559 , 5.8586559 , 5.8586559 ,\n",
       "       5.8586559 , 5.8586559 , 5.8586559 , 5.8586559 , 5.8586559 ,\n",
       "       5.8586559 , 5.8586559 , 5.8586559 , 5.8586559 , 5.8586559 ,\n",
       "       5.8586559 , 5.8586559 , 5.8586559 , 5.8586559 , 5.8586559 ,\n",
       "       5.8586559 , 5.8586559 , 5.8586559 , 5.8586559 , 5.8586559 ,\n",
       "       5.8586559 , 5.8586559 , 5.8586559 , 5.8586559 , 5.8586559 ,\n",
       "       5.8586559 , 5.8586559 , 5.8586559 , 5.8586559 , 5.8586559 ,\n",
       "       5.8586559 , 5.8586559 , 5.8586559 , 5.8586559 , 5.8586559 ,\n",
       "       5.8586559 , 5.8586559 , 5.8586559 , 5.8586559 , 5.8586559 ,\n",
       "       5.8586559 , 5.8586559 , 5.8586559 , 5.8586559 , 5.8586559 ,\n",
       "       5.8586559 , 5.8586559 , 5.8586559 , 5.8586559 , 5.8586559 ,\n",
       "       5.8586559 , 5.8586559 , 5.8586559 , 5.8586559 , 5.8586559 ,\n",
       "       5.8586559 , 5.8586559 , 5.8586559 , 5.8586559 , 5.8586559 ,\n",
       "       5.8586559 , 5.8586559 , 5.8586559 , 5.8586559 , 5.8586559 ,\n",
       "       5.8586559 , 5.8586559 , 5.8586559 , 5.8586559 , 5.8586559 ,\n",
       "       5.8586559 , 5.8586559 , 5.8586559 , 5.8586559 , 5.8586559 ,\n",
       "       5.8586559 , 5.8586559 , 5.8586559 , 5.8586559 , 5.8586559 ,\n",
       "       5.8586559 , 5.8586559 , 5.8586559 , 5.8586559 , 5.8586559 ,\n",
       "       5.8586559 , 5.8586559 , 5.8586559 , 5.8586559 , 5.8586559 ,\n",
       "       5.8586559 , 5.8586559 , 5.8586559 , 5.8586559 , 5.8586559 ,\n",
       "       5.8586559 , 5.8586559 , 5.8586559 , 5.8586559 , 5.8586559 ,\n",
       "       5.8586559 , 5.8586559 , 5.8586559 , 5.8586559 , 5.8586559 ,\n",
       "       5.8586559 , 5.8586559 , 5.8586559 , 5.8586559 , 5.8586559 ,\n",
       "       5.8586559 , 5.8586559 , 5.8586559 , 5.8586559 , 5.8586559 ,\n",
       "       5.8586559 , 5.8586559 , 5.8586559 , 5.8586559 , 5.8586559 ,\n",
       "       5.8586559 , 5.8586559 , 5.8586559 , 5.8586559 , 5.8586559 ,\n",
       "       5.8586559 , 5.8586559 , 5.8586559 , 5.8586559 , 5.8586559 ,\n",
       "       5.8586559 , 5.8586559 , 5.8586559 , 5.8586559 , 5.8586559 ,\n",
       "       5.8586559 , 5.8586559 , 5.8586559 , 5.8586559 , 5.8586559 ,\n",
       "       5.8586559 , 5.8586559 , 5.8586559 , 5.8586559 , 5.8586559 ,\n",
       "       5.8586559 , 5.8586559 , 5.8586559 , 5.8586559 , 5.8586559 ,\n",
       "       5.8586559 , 5.8586559 , 5.8586559 , 5.8586559 , 5.8586559 ,\n",
       "       5.8586559 , 5.8586559 , 5.8586559 , 5.8586559 , 5.8586559 ,\n",
       "       5.8586559 , 5.8586559 , 5.8586559 , 5.8586559 , 5.8586559 ,\n",
       "       5.8586559 , 5.8586559 , 5.8586559 , 5.8586559 , 5.8586559 ,\n",
       "       5.8586559 , 5.8586559 , 5.8586559 , 5.8586559 , 5.8586559 ,\n",
       "       5.8586559 , 5.8586559 , 5.8586559 , 5.8586559 , 5.8586559 ,\n",
       "       5.8586559 , 5.8586559 , 5.8586559 , 5.8586559 , 5.8586559 ,\n",
       "       5.8586559 , 5.8586559 , 5.8586559 , 5.8586559 , 5.8586559 ,\n",
       "       5.8586559 , 5.8586559 , 5.8586559 , 5.8586559 , 5.8586559 ,\n",
       "       5.8586559 , 5.8586559 , 5.8586559 , 5.8586559 , 5.8586559 ,\n",
       "       5.8586559 , 5.8586559 , 5.8586559 , 5.8586559 , 5.8586559 ,\n",
       "       5.8586559 , 5.8586559 , 5.8586559 , 5.8586559 , 5.8586559 ,\n",
       "       5.8586559 , 5.8586559 , 5.8586559 , 5.8586559 , 5.8586559 ,\n",
       "       5.8586559 , 5.8586559 , 5.8586559 , 5.8586559 , 5.8586559 ,\n",
       "       5.8586559 , 5.8586559 , 5.8586559 , 5.8586559 , 5.8586559 ,\n",
       "       5.8586559 , 5.8586559 , 5.8586559 , 5.8586559 , 5.8586559 ,\n",
       "       5.8586559 , 5.8586559 , 5.8586559 , 5.8586559 , 5.8586559 ,\n",
       "       5.8586559 , 5.8586559 , 5.8586559 , 5.8586559 , 5.8586559 ,\n",
       "       5.8586559 , 5.8586559 , 5.8586559 , 5.8586559 , 5.8586559 ,\n",
       "       5.8586559 , 5.8586559 , 5.8586559 , 5.8586559 , 5.8586559 ,\n",
       "       5.8586559 , 5.8586559 , 5.8586559 , 5.8586559 , 5.8586559 ,\n",
       "       5.8586559 , 5.8586559 , 5.8586559 , 5.8586559 , 5.8586559 ,\n",
       "       5.8586559 , 5.8586559 , 5.8586559 , 5.8586559 , 5.8586559 ,\n",
       "       5.8586559 , 5.8586559 , 5.8586559 , 5.8586559 , 5.8586559 ,\n",
       "       5.8586559 , 5.8586559 , 5.8586559 , 5.8586559 , 5.8586559 ,\n",
       "       5.8586559 , 5.8586559 , 5.8586559 , 5.8586559 , 5.8586559 ,\n",
       "       5.8586559 , 5.8586559 , 5.8586559 , 5.8586559 , 5.8586559 ,\n",
       "       5.8586559 , 5.8586559 , 5.8586559 , 5.8586559 , 5.8586559 ,\n",
       "       5.8586559 , 5.8586559 , 5.8586559 , 5.8586559 , 5.8586559 ,\n",
       "       5.8586559 , 5.8586559 , 5.8586559 , 5.8586559 , 5.8586559 ,\n",
       "       5.8586559 , 5.8586559 , 5.8586559 , 5.8586559 , 5.8586559 ,\n",
       "       5.8586559 , 5.8586559 , 5.8586559 , 5.8586559 , 5.8586559 ,\n",
       "       5.8586559 , 5.8586559 , 5.8586559 , 5.8586559 , 5.8586559 ,\n",
       "       5.8586559 , 5.8586559 , 5.8586559 , 5.8586559 , 5.8586559 ,\n",
       "       5.8586559 , 5.8586559 , 5.8586559 , 5.8586559 , 5.8586559 ,\n",
       "       5.8586559 , 5.8586559 , 5.8586559 , 5.8586559 , 5.8586559 ,\n",
       "       5.8586559 , 5.8586559 , 5.8586559 , 5.8586559 , 5.8586559 ,\n",
       "       5.8586559 , 5.8586559 , 5.8586559 , 5.8586559 , 5.8586559 ,\n",
       "       5.8586559 , 5.8586559 , 5.8586559 , 5.8586559 , 5.8586559 ,\n",
       "       5.8586559 , 5.8586559 , 5.8586559 , 5.8586559 , 5.8586559 ,\n",
       "       5.8586559 , 5.8586559 , 5.8586559 , 5.8586559 , 5.8586559 ,\n",
       "       5.8586559 , 5.8586559 , 5.8586559 , 5.8586559 , 5.8586559 ,\n",
       "       5.8586559 , 5.8586559 , 5.8586559 , 5.8586559 , 5.8586559 ,\n",
       "       5.8586559 , 5.8586559 , 5.8586559 , 5.8586559 , 5.8586559 ,\n",
       "       5.8586559 , 5.8586559 , 5.8586559 , 5.8586559 , 5.8586559 ,\n",
       "       5.8586559 , 5.8586559 , 5.8586559 , 5.8586559 , 5.8586559 ,\n",
       "       5.8586559 , 5.8586559 , 5.8586559 , 5.8586559 , 5.8586559 ,\n",
       "       5.8586559 , 5.8586559 , 5.8586559 , 5.8586559 , 5.8586559 ,\n",
       "       5.8586559 , 5.8586559 , 5.8586559 , 5.8586559 , 5.8586559 ,\n",
       "       5.8586559 , 5.8586559 , 5.8586559 , 5.8586559 , 5.8586559 ,\n",
       "       5.8586559 , 5.8586559 , 5.8586559 , 5.8586559 , 5.8586559 ,\n",
       "       5.8586559 , 5.8586559 , 5.8586559 , 5.8586559 , 5.8586559 ,\n",
       "       5.8586559 , 5.8586559 , 5.8586559 , 5.8586559 , 5.8586559 ,\n",
       "       5.8586559 , 5.8586559 , 5.8586559 , 5.8586559 , 5.8586559 ,\n",
       "       5.8586559 , 5.8586559 , 5.8586559 , 5.8586559 , 5.8586559 ,\n",
       "       5.8586559 , 5.8586559 , 5.8586559 , 5.8586559 , 5.8586559 ,\n",
       "       5.8586559 , 5.8586559 , 5.8586559 , 5.8586559 , 5.8586559 ,\n",
       "       5.8586559 , 5.8586559 , 5.8586559 , 5.8586559 , 5.8586559 ,\n",
       "       5.8586559 , 5.8586559 , 5.8586559 , 5.8586559 , 5.8586559 ,\n",
       "       5.8586559 , 5.8586559 , 5.8586559 , 5.8586559 , 5.8586559 ,\n",
       "       5.8586559 , 5.8586559 , 5.8586559 , 5.8586559 , 5.8586559 ,\n",
       "       5.8586559 , 5.8586559 , 5.8586559 , 5.8586559 , 5.8586559 ,\n",
       "       5.8586559 , 5.8586559 , 5.8586559 , 5.8586559 , 5.8586559 ,\n",
       "       5.8586559 , 5.8586559 , 5.8586559 , 5.8586559 , 5.8586559 ,\n",
       "       5.8586559 , 5.8586559 , 5.8586559 , 5.8586559 , 5.8586559 ,\n",
       "       5.8586559 , 5.8586559 , 5.8586559 , 5.8586559 , 5.8586559 ,\n",
       "       5.8586559 , 5.8586559 , 5.8586559 , 5.8586559 , 5.8586559 ,\n",
       "       5.8586559 , 5.8586559 , 5.8586559 , 5.8586559 , 5.8586559 ,\n",
       "       5.8586559 , 5.8586559 , 5.8586559 , 5.8586559 , 5.8586559 ,\n",
       "       5.8586559 , 5.8586559 , 5.8586559 , 5.8586559 , 5.8586559 ,\n",
       "       5.8586559 , 5.8586559 , 5.8586559 , 5.8586559 , 5.8586559 ,\n",
       "       5.8586559 , 5.8586559 , 5.8586559 , 5.8586559 , 5.8586559 ,\n",
       "       5.8586559 , 5.8586559 , 5.8586559 , 5.8586559 , 5.8586559 ,\n",
       "       5.8586559 , 5.8586559 , 5.8586559 , 5.8586559 , 5.8586559 ,\n",
       "       5.8586559 , 5.8586559 , 5.8586559 , 5.8586559 , 5.8586559 ,\n",
       "       5.8586559 , 5.8586559 , 5.8586559 , 5.8586559 , 5.8586559 ,\n",
       "       5.8586559 , 5.8586559 , 5.8586559 , 5.8586559 , 5.8586559 ,\n",
       "       5.8586559 , 5.8586559 , 5.8586559 , 5.8586559 , 5.8586559 ,\n",
       "       5.8586559 , 5.8586559 , 5.8586559 , 5.8586559 , 5.8586559 ,\n",
       "       5.8586559 , 5.8586559 , 5.8586559 , 5.8586559 , 5.8586559 ,\n",
       "       5.8586559 , 5.8586559 , 5.8586559 , 5.8586559 , 5.8586559 ,\n",
       "       5.8586559 , 5.8586559 , 5.8586559 , 5.8586559 , 5.8586559 ,\n",
       "       5.8586559 , 5.8586559 , 5.8586559 , 5.8586559 , 5.8586559 ,\n",
       "       5.8586559 , 5.8586559 , 5.8586559 , 5.8586559 , 5.8586559 ,\n",
       "       5.8586559 , 5.8586559 , 5.8586559 , 5.8586559 , 5.8586559 ,\n",
       "       5.8586559 , 5.8586559 , 5.8586559 , 5.8586559 , 5.8586559 ,\n",
       "       5.8586559 , 5.8586559 , 5.8586559 , 5.8586559 , 5.8586559 ,\n",
       "       5.8586559 , 5.8586559 , 5.8586559 , 5.8586559 , 5.8586559 ,\n",
       "       5.8586559 , 5.8586559 , 5.8586559 , 5.8586559 , 5.8586559 ,\n",
       "       5.8586559 , 5.8586559 , 5.8586559 , 5.8586559 , 5.8586559 ,\n",
       "       5.8586559 , 5.8586559 , 5.8586559 , 5.8586559 , 5.8586559 ,\n",
       "       5.8586559 , 5.8586559 , 5.8586559 , 5.8586559 , 5.8586559 ,\n",
       "       5.8586559 , 5.8586559 , 5.8586559 , 5.8586559 , 5.8586559 ,\n",
       "       5.8586559 , 5.8586559 , 5.8586559 , 5.8586559 , 5.8586559 ,\n",
       "       5.8586559 , 5.8586559 , 5.8586559 , 5.8586559 , 5.8586559 ,\n",
       "       5.8586559 , 5.8586559 , 5.8586559 , 5.8586559 , 5.8586559 ,\n",
       "       5.8586559 , 5.8586559 , 5.8586559 , 5.8586559 , 5.8586559 ,\n",
       "       5.8586559 , 5.8586559 , 5.8586559 , 5.8586559 , 5.8586559 ,\n",
       "       5.8586559 , 5.8586559 , 5.8586559 , 5.8586559 , 5.8586559 ,\n",
       "       5.8586559 , 5.8586559 , 5.8586559 , 5.8586559 , 5.8586559 ,\n",
       "       5.8586559 , 5.8586559 , 5.8586559 , 5.8586559 , 5.8586559 ,\n",
       "       5.8586559 , 5.8586559 , 5.8586559 , 5.8586559 , 5.8586559 ,\n",
       "       5.8586559 , 5.8586559 , 5.8586559 , 5.8586559 , 5.8586559 ,\n",
       "       5.8586559 , 5.8586559 , 5.8586559 , 5.8586559 , 5.8586559 ,\n",
       "       5.8586559 , 5.8586559 , 5.8586559 , 5.8586559 , 5.8586559 ])"
      ]
     },
     "execution_count": 21,
     "metadata": {},
     "output_type": "execute_result"
    }
   ],
   "source": [
    "cost"
   ]
  },
  {
   "cell_type": "code",
   "execution_count": 22,
   "metadata": {},
   "outputs": [
    {
     "data": {
      "text/plain": [
       "(1000,)"
      ]
     },
     "execution_count": 22,
     "metadata": {},
     "output_type": "execute_result"
    }
   ],
   "source": [
    "cost.shape"
   ]
  },
  {
   "cell_type": "code",
   "execution_count": 23,
   "metadata": {},
   "outputs": [],
   "source": [
    "#取cost前20项\n",
    "cost=cost[0:12]\n",
    "#取iters前20项\n",
    "iters=12"
   ]
  },
  {
   "cell_type": "code",
   "execution_count": 24,
   "metadata": {},
   "outputs": [
    {
     "data": {
      "image/png": "[encoded data removed]",
      "text/plain": [
       "<Figure size 864x576 with 1 Axes>"
      ]
     },
     "metadata": {
      "needs_background": "light"
     },
     "output_type": "display_data"
    }
   ],
   "source": [
    "#我们再来看看cost在迭代中的变化，看看下降的过程\n",
    "\n",
    "fig, ax = plt.subplots(figsize=(12,8))\n",
    "ax.plot(np.arange(iters), cost, 'r')\n",
    "ax.set_xlabel('Iterations')\n",
    "ax.set_ylabel('Cost')\n",
    "ax.set_title('Error vs. Training Epoch')\n",
    "plt.show()"
   ]
  },
  {
   "cell_type": "code",
   "execution_count": 25,
   "metadata": {},
   "outputs": [],
   "source": [
    "#两次就几乎找到了最小Omega！\n",
    "#🐂"
   ]
  }
 ],
 "metadata": {
  "kernelspec": {
   "display_name": "Python 3",
   "language": "python",
   "name": "python3"
  },
  "language_info": {
   "codemirror_mode": {
    "name": "ipython",
    "version": 3
   },
   "file_extension": ".py",
   "mimetype": "text/x-python",
   "name": "python",
   "nbconvert_exporter": "python",
   "pygments_lexer": "ipython3",
   "version": "3.7.0"
  }
 },
 "nbformat": 4,
 "nbformat_minor": 2
}
